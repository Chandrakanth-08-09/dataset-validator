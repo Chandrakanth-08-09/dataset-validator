{
  "nbformat": 4,
  "nbformat_minor": 0,
  "metadata": {
    "colab": {
      "provenance": []
    },
    "kernelspec": {
      "name": "python3",
      "display_name": "Python 3"
    },
    "language_info": {
      "name": "python"
    }
  },
  "cells": [
    {
      "cell_type": "markdown",
      "source": [
        "# **Synthetic Healthcare Dataset Generator**\n",
        "This script generates a synthetic healthcare dataset using the **Faker** library and controlled vocabularies.\n",
        "It simulates patient demographic and clinical information including:\n",
        "- Personal details (name, age, gender, ethnicity, contact info)\n",
        "- Medical data (diagnosis codes, symptoms, treatments, lab results)\n",
        "- Consent and data source metadata\n",
        "\n",
        "The dataset includes 1000 records (modifiable via NUM_RECORDS) and is saved as a CSV file named 'synthetic_healthcare_dataset.csv'.\n",
        "This is useful for testing, prototyping, or educational purposes where real patient data cannot be used.\n",
        "\n",
        "Note: All data is entirely fictional and randomly generated."
      ],
      "metadata": {
        "id": "rFPYYcskksAn"
      }
    },
    {
      "cell_type": "code",
      "execution_count": null,
      "metadata": {
        "colab": {
          "base_uri": "https://localhost:8080/"
        },
        "id": "9Jbl7hqZ5AG1",
        "outputId": "35da7725-aa84-46d2-dc9b-d420f084827a"
      },
      "outputs": [
        {
          "output_type": "stream",
          "name": "stdout",
          "text": [
            "Dataset generated with 1000 records and saved to synthetic_healthcare_dataset.csv\n"
          ]
        }
      ],
      "source": [
        "import pandas as pd\n",
        "import random\n",
        "import faker\n",
        "from datetime import datetime\n",
        "\n",
        "# Initialize Faker\n",
        "fake = faker.Faker()\n",
        "\n",
        "# Parameters\n",
        "NUM_RECORDS = 1000   # Change this for larger dataset\n",
        "\n",
        "# Controlled vocabularies\n",
        "GENDERS = [\"Male\", \"Female\", \"Other\"]\n",
        "ETHNICITIES = [\"Asian\", \"Black\", \"White\", \"Hispanic\", \"Other\"]\n",
        "OCCUPATIONS = [\"Teacher\", \"Engineer\", \"Doctor\", \"Nurse\", \"Clerk\", \"Unemployed\", \"Retired\"]\n",
        "DIAGNOSIS_CODES = [\"C34\", \"I10\", \"E11\", \"J45\", \"K21\", \"F32\", \"M54\"]  # Example ICD codes\n",
        "SYMPTOMS_MAP = {\n",
        "    \"C34\": [\"Cough\", \"Chest pain\", \"Weight loss\"],\n",
        "    \"I10\": [\"Headache\", \"Dizziness\"],\n",
        "    \"E11\": [\"Frequent urination\", \"Thirst\", \"Fatigue\"],\n",
        "    \"J45\": [\"Wheezing\", \"Shortness of breath\"],\n",
        "    \"K21\": [\"Heartburn\", \"Regurgitation\"],\n",
        "    \"F32\": [\"Sadness\", \"Fatigue\", \"Sleep problems\"],\n",
        "    \"M54\": [\"Back pain\", \"Stiffness\"]\n",
        "}\n",
        "TREATMENTS = [\"Medication\", \"Surgery\", \"Therapy\", \"Lifestyle Change\"]\n",
        "RESPONSES = [\"Improved\", \"No Change\", \"Worsened\"]\n",
        "HOSPITALS = [\"H001\", \"H002\", \"H003\", \"H004\"]\n",
        "DATA_SOURCES = [\"Hospital EMR\", \"Clinical Trial\", \"Insurance Claim\"]\n",
        "\n",
        "def generate_record(i):\n",
        "    dob = fake.date_of_birth(minimum_age=0, maximum_age=90)\n",
        "    age = datetime.today().year - dob.year\n",
        "    gender = random.choice(GENDERS)\n",
        "    ethnicity = random.choice(ETHNICITIES)\n",
        "\n",
        "    # Age-appropriate occupation\n",
        "    if age <= 5:\n",
        "        occupation = None\n",
        "    elif 6 <= age <= 16:\n",
        "        occupation = \"Student\"\n",
        "    elif age > 16 and age < 65:\n",
        "        occupation = random.choice([o for o in OCCUPATIONS if o not in [\"Student\", \"Retired\"]])\n",
        "    else:\n",
        "        occupation = \"Retired\"\n",
        "\n",
        "    # Health data\n",
        "    diagnosis = random.choice(DIAGNOSIS_CODES)\n",
        "    symptoms = \", \".join(random.sample(SYMPTOMS_MAP[diagnosis], k=min(2, len(SYMPTOMS_MAP[diagnosis]))))\n",
        "    genetic_markers = fake.lexify(text=\"GM????\")\n",
        "    family_history = random.choice([\"Yes\", \"No\"])\n",
        "    treatment = random.choice(TREATMENTS)\n",
        "    response = random.choice(RESPONSES)\n",
        "    lab_results = fake.lexify(text=\"LR-????\")\n",
        "\n",
        "    survival_months = random.randint(1, 120) if diagnosis == \"C34\" else None\n",
        "    readmission = random.choice([\"Yes\", \"No\"])\n",
        "\n",
        "    # Consent\n",
        "    consent_flag = random.choice([\"Yes\", \"No\"])\n",
        "    consent_date = fake.date_this_decade() if consent_flag == \"Yes\" else None\n",
        "\n",
        "    return {\n",
        "        \"Patient_ID\": f\"P{i+1:05d}\",\n",
        "        \"Full_Name\": fake.name(),\n",
        "        \"DOB\": dob,\n",
        "        \"Age\": age,\n",
        "        \"Gender\": gender,\n",
        "        \"Ethnicity\": ethnicity,\n",
        "        \"Zip_Code\": fake.postcode(),\n",
        "        \"Occupation\": occupation,\n",
        "        \"Contact_Number\": fake.phone_number(),\n",
        "        \"Email\": fake.email(),\n",
        "        \"Address\": fake.address().replace(\"\\n\", \", \"),\n",
        "        \"Diagnosis_Code\": diagnosis,\n",
        "        \"Symptoms\": symptoms,\n",
        "        \"Genetic_Markers\": genetic_markers,\n",
        "        \"Family_History\": family_history,\n",
        "        \"Treatment_Type\": treatment,\n",
        "        \"Treatment_Response\": response,\n",
        "        \"Lab_Results\": lab_results,\n",
        "        \"Hospital_ID\": random.choice(HOSPITALS),\n",
        "        \"Consent_Flag\": consent_flag,\n",
        "        \"Consent_Date\": consent_date,\n",
        "        \"Data_Source\": random.choice(DATA_SOURCES),\n",
        "        \"Disease_Progression\": random.choice([\"Stable\", \"Improving\", \"Worsening\"]),\n",
        "        \"Survival_Months\": survival_months,\n",
        "        \"Readmission\": readmission\n",
        "    }\n",
        "\n",
        "# Generate dataset\n",
        "records = [generate_record(i) for i in range(NUM_RECORDS)]\n",
        "df = pd.DataFrame(records)\n",
        "\n",
        "# Save to CSV\n",
        "df.to_csv(\"synthetic_healthcare_dataset.csv\", index=False)\n",
        "\n",
        "print(f\"Dataset generated with {NUM_RECORDS} records and saved to synthetic_healthcare_dataset.csv\")\n",
        "\n"
      ]
    },
    {
      "cell_type": "markdown",
      "source": [],
      "metadata": {
        "id": "5sJtiJ5rkqA8"
      }
    },
    {
      "cell_type": "code",
      "metadata": {
        "colab": {
          "base_uri": "https://localhost:8080/"
        },
        "id": "5e0c6075",
        "outputId": "e39d4ec4-133b-438a-d165-1cea1d63757a"
      },
      "source": [
        "%pip install faker"
      ],
      "execution_count": null,
      "outputs": [
        {
          "output_type": "stream",
          "name": "stdout",
          "text": [
            "Requirement already satisfied: faker in /usr/local/lib/python3.12/dist-packages (37.8.0)\n",
            "Requirement already satisfied: tzdata in /usr/local/lib/python3.12/dist-packages (from faker) (2025.2)\n"
          ]
        }
      ]
    }
  ]
}